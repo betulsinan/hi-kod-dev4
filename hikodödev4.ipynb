{
 "cells": [
  {
   "cell_type": "code",
   "execution_count": 3,
   "id": "9fbf896c-975f-4f13-8427-947274c98134",
   "metadata": {},
   "outputs": [],
   "source": [
    "liste = [\"Python\", True, 9, \"3\", 8.4, \"Hi-kod\", \"False\", 4.7]"
   ]
  },
  {
   "cell_type": "code",
   "execution_count": 5,
   "id": "b102a85e-1873-44d5-91ea-68b399728269",
   "metadata": {},
   "outputs": [
    {
     "name": "stdout",
     "output_type": "stream",
     "text": [
      "3\n"
     ]
    }
   ],
   "source": [
    "print(liste[3])"
   ]
  },
  {
   "cell_type": "code",
   "execution_count": 7,
   "id": "53d2437b-7780-40b3-bdf4-6b2b85cd7d76",
   "metadata": {},
   "outputs": [
    {
     "name": "stdout",
     "output_type": "stream",
     "text": [
      "Hi-kod\n"
     ]
    }
   ],
   "source": [
    "print(liste[5])"
   ]
  },
  {
   "cell_type": "code",
   "execution_count": 9,
   "id": "8d1c6d96-f035-411d-980e-922a41dc85f6",
   "metadata": {},
   "outputs": [
    {
     "name": "stdout",
     "output_type": "stream",
     "text": [
      "4.7\n"
     ]
    }
   ],
   "source": [
    "print(liste[7])"
   ]
  },
  {
   "cell_type": "code",
   "execution_count": 11,
   "id": "3cfee71c-6d48-4478-8e20-6851c33ea492",
   "metadata": {},
   "outputs": [
    {
     "name": "stdout",
     "output_type": "stream",
     "text": [
      "[9, '3', 8.4, 'Hi-kod']\n"
     ]
    }
   ],
   "source": [
    "print(liste[2:6])"
   ]
  },
  {
   "cell_type": "code",
   "execution_count": 13,
   "id": "ac7d37ef-f1f1-4776-a81e-0627c141dbed",
   "metadata": {},
   "outputs": [
    {
     "name": "stdout",
     "output_type": "stream",
     "text": [
      "[8.4, 'Hi-kod', 'False', 4.7]\n"
     ]
    }
   ],
   "source": [
    "print(liste[4:8])"
   ]
  },
  {
   "cell_type": "code",
   "execution_count": 15,
   "id": "5c7b612a-ede7-4ab7-9a55-a87a88f287bf",
   "metadata": {},
   "outputs": [],
   "source": [
    "liste = [\"Python\", True, 9, \"3\", 8.4, \"Hi-kod\", \"False\", 4.7]"
   ]
  },
  {
   "cell_type": "code",
   "execution_count": 17,
   "id": "4687b40d-dc8b-41b0-9e2b-e4341517ec1e",
   "metadata": {},
   "outputs": [
    {
     "name": "stdout",
     "output_type": "stream",
     "text": [
      "['Python', '3', 'Hi-kod', 'False']\n"
     ]
    }
   ],
   "source": [
    "yeni_liste = [item for item in liste if isinstance(item ,str)]\n",
    "print(yeni_liste)"
   ]
  },
  {
   "cell_type": "code",
   "execution_count": 19,
   "id": "47c531d2-f095-433b-80fc-c3e0d43208a3",
   "metadata": {},
   "outputs": [],
   "source": [
    "meyveler = [\"elma\",\"armut\",\"kiraz\",\"çilek\"]"
   ]
  },
  {
   "cell_type": "code",
   "execution_count": 21,
   "id": "453199fb-ced1-4c0a-8257-7dd64840397e",
   "metadata": {},
   "outputs": [
    {
     "name": "stdout",
     "output_type": "stream",
     "text": [
      "0. indexte bulunan meyve: elma\n",
      "1. indexte bulunan meyve: armut\n",
      "2. indexte bulunan meyve: kiraz\n",
      "3. indexte bulunan meyve: çilek\n"
     ]
    }
   ],
   "source": [
    "for index, meyve in enumerate(meyveler):\n",
    "    print(\"{}. indexte bulunan meyve: {}\".format(index,meyve))"
   ]
  },
  {
   "cell_type": "code",
   "execution_count": null,
   "id": "1e11a7f9-73cc-4b32-94fa-24e9bb82587c",
   "metadata": {},
   "outputs": [],
   "source": []
  }
 ],
 "metadata": {
  "kernelspec": {
   "display_name": "Python 3 (ipykernel)",
   "language": "python",
   "name": "python3"
  },
  "language_info": {
   "codemirror_mode": {
    "name": "ipython",
    "version": 3
   },
   "file_extension": ".py",
   "mimetype": "text/x-python",
   "name": "python",
   "nbconvert_exporter": "python",
   "pygments_lexer": "ipython3",
   "version": "3.12.4"
  }
 },
 "nbformat": 4,
 "nbformat_minor": 5
}
